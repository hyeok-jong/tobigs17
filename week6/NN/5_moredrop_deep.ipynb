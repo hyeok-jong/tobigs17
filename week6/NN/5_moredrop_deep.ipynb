{
 "cells": [
  {
   "cell_type": "markdown",
   "metadata": {
    "id": "3w6SHm1p5yXs"
   },
   "source": [
    "# Advanced NN"
   ]
  },
  {
   "cell_type": "code",
   "execution_count": 1,
   "metadata": {
    "id": "j-Q0FSR5rENI"
   },
   "outputs": [],
   "source": [
    "import numpy as np\n",
    "import pandas as pd\n",
    "import matplotlib.pyplot as plt\n",
    "\n",
    "import torch\n",
    "import torch.nn as nn\n",
    "import torch.nn.functional as F\n",
    "\n",
    "import warnings\n",
    "warnings.filterwarnings(action='ignore')\n",
    "\n",
    "data_dir = '/home/mskang/hyeokjong/kaggle/dataset'"
   ]
  },
  {
   "cell_type": "markdown",
   "metadata": {
    "id": "hGgljobEsCNS"
   },
   "source": [
    "# 데이터 확인"
   ]
  },
  {
   "cell_type": "code",
   "execution_count": 2,
   "metadata": {
    "id": "HIXF9qR4mN8J"
   },
   "outputs": [],
   "source": [
    "Train = pd.read_csv(data_dir + '/Train.csv')\n",
    "Test = pd.read_csv(data_dir + '/Test.csv')\n",
    "submission = pd.read_csv(data_dir + '/submission.csv')"
   ]
  },
  {
   "cell_type": "code",
   "execution_count": 3,
   "metadata": {
    "id": "26AwQFvemYxx"
   },
   "outputs": [],
   "source": [
    "X = Train.iloc[:, :-1].values\n",
    "y = Train.iloc[:, -1].values"
   ]
  },
  {
   "cell_type": "code",
   "execution_count": 4,
   "metadata": {
    "id": "1MLqSq7utSGD"
   },
   "outputs": [],
   "source": [
    "X_test = Test.values"
   ]
  },
  {
   "cell_type": "markdown",
   "metadata": {
    "id": "iSnwe75AsEPa"
   },
   "source": [
    "# 데이터 분리"
   ]
  },
  {
   "cell_type": "code",
   "execution_count": 5,
   "metadata": {
    "id": "73ttBq_osFM0"
   },
   "outputs": [],
   "source": [
    "from sklearn.model_selection import train_test_split\n",
    "\n",
    "X_train, X_val, y_train, y_val = train_test_split(X, y, test_size = 0.2, random_state = 16, stratify = y, shuffle = True)\n",
    "\n",
    "# 정규화\n",
    "X_train = X_train / 255.0\n",
    "X_val = X_val / 255.0\n",
    "X_test = X_test / 255.0\n",
    "\n",
    "X_train = torch.FloatTensor(X_train)\n",
    "y_train = torch.LongTensor(y_train)\n",
    "\n",
    "X_val = torch.FloatTensor(X_val)\n",
    "y_val = torch.LongTensor(y_val)\n",
    "\n",
    "X_test = torch.FloatTensor(X_test)"
   ]
  },
  {
   "cell_type": "markdown",
   "metadata": {
    "id": "pWfHesQguKjT"
   },
   "source": [
    "# 함수 및 환경 설정"
   ]
  },
  {
   "cell_type": "code",
   "execution_count": 6,
   "metadata": {
    "colab": {
     "base_uri": "https://localhost:8080/"
    },
    "executionInfo": {
     "elapsed": 7,
     "status": "ok",
     "timestamp": 1629620819639,
     "user": {
      "displayName": "이성범",
      "photoUrl": "",
      "userId": "11166281350151773159"
     },
     "user_tz": -540
    },
    "id": "2wS5oudTu0Tt",
    "outputId": "6f94f977-86f8-4b42-ce35-c50bb0c8e103"
   },
   "outputs": [
    {
     "name": "stdout",
     "output_type": "stream",
     "text": [
      "Device: cuda\n",
      "Current cuda device: 0\n",
      "Count of using GPUs: 1\n"
     ]
    }
   ],
   "source": [
    "import os\n",
    "os.environ[\"CUDA_DEVICE_ORDER\"]=\"PCI_BUS_ID\"  # Arrange GPU devices starting from 0\n",
    "os.environ[\"CUDA_VISIBLE_DEVICES\"]= '0'\n",
    "DEVICE = torch.device(\"cuda\" if torch.cuda.is_available() else \"cpu\")\n",
    "print('Device:', DEVICE)\n",
    "print('Current cuda device:', torch.cuda.current_device())\n",
    "print('Count of using GPUs:', torch.cuda.device_count())"
   ]
  },
  {
   "cell_type": "code",
   "execution_count": 7,
   "metadata": {
    "id": "UmyrqG90u_58"
   },
   "outputs": [],
   "source": [
    "from torch.utils.data import Dataset\n",
    "from torch.utils.data import DataLoader\n",
    "\n",
    "class DataSet(Dataset):\n",
    "  def __init__(self, image, label = None):\n",
    "    super(DataSet, self).__init__()\n",
    "    self._image = image\n",
    "    self._label = label\n",
    "\n",
    "  def __len__(self):\n",
    "    return len(self._image)\n",
    "\n",
    "  def __getitem__(self, idx):\n",
    "    if self._label is None:\n",
    "      image = self._image[idx]\n",
    "      return image\n",
    "\n",
    "    else:\n",
    "      image = self._image[idx]\n",
    "      label = self._label[idx]\n",
    "\n",
    "      return image, label"
   ]
  },
  {
   "cell_type": "code",
   "execution_count": 8,
   "metadata": {
    "id": "tuuZXiJDuMqc"
   },
   "outputs": [],
   "source": [
    "BATCH_SIZE = 30000\n",
    "\n",
    "train_dataset = DataSet(X_train, y_train)\n",
    "train_loader = DataLoader(train_dataset, batch_size = BATCH_SIZE, shuffle = True, drop_last = False)\n",
    "\n",
    "val_dataset = DataSet(X_val, y_val)\n",
    "val_loader = DataLoader(val_dataset, batch_size = BATCH_SIZE, shuffle = True, drop_last = False)\n",
    "\n",
    "test_dataset = DataSet(X_test)\n",
    "test_loader = DataLoader(test_dataset, batch_size = BATCH_SIZE, shuffle = False, drop_last = False)"
   ]
  },
  {
   "cell_type": "code",
   "execution_count": 9,
   "metadata": {},
   "outputs": [
    {
     "name": "stdout",
     "output_type": "stream",
     "text": [
      "torch.Size([30000, 784]) torch.Size([30000])\n"
     ]
    }
   ],
   "source": [
    "for a,b in train_loader:\n",
    "    input = a\n",
    "    target = b\n",
    "    break\n",
    "print(input.shape, target.shape)"
   ]
  },
  {
   "cell_type": "code",
   "execution_count": null,
   "metadata": {},
   "outputs": [],
   "source": []
  },
  {
   "cell_type": "code",
   "execution_count": 10,
   "metadata": {
    "id": "sAnZsabswlok"
   },
   "outputs": [],
   "source": [
    "def train(model, train_loader):\n",
    "  model.train()\n",
    "  train_loss = 0\n",
    "  correct = 0\n",
    "\n",
    "  for image, label in train_loader:\n",
    "    image = image.to(DEVICE)\n",
    "    label = label.to(DEVICE)\n",
    "    optimizer.zero_grad()\n",
    "    output = model(image)\n",
    "    loss = criterion(output, label)\n",
    "    loss.backward()\n",
    "    optimizer.step()\n",
    "\n",
    "    train_loss += loss.item()\n",
    "    prediction = output.max(1, keepdim = True)[1]\n",
    "    correct += prediction.eq(label.view_as(prediction)).sum().item()\n",
    "      \n",
    "  train_loss /= len(train_loader)\n",
    "  train_accuracy = 100. * correct / len(train_loader.dataset)\n",
    "  return train_loss, train_accuracy"
   ]
  },
  {
   "cell_type": "code",
   "execution_count": 11,
   "metadata": {
    "id": "LBIYXA74qFgT"
   },
   "outputs": [],
   "source": [
    "def evaluate(model, test_loader):\n",
    "  model.eval()\n",
    "  test_loss = 0\n",
    "  correct = 0\n",
    "\n",
    "  with torch.no_grad():\n",
    "    for image, label in test_loader:\n",
    "      image = image.to(DEVICE)\n",
    "      label = label.to(DEVICE)\n",
    "      output = model(image)\n",
    "      test_loss += criterion(output, label).item()\n",
    "      prediction = output.max(1, keepdim = True)[1]\n",
    "      correct += prediction.eq(label.view_as(prediction)).sum().item()\n",
    "\n",
    "  test_loss /= len(test_loader)\n",
    "  test_accuracy = 100. * correct / len(test_loader.dataset)\n",
    "  return test_loss, test_accuracy"
   ]
  },
  {
   "cell_type": "code",
   "execution_count": 12,
   "metadata": {
    "id": "VvCzzZrVw2wM"
   },
   "outputs": [],
   "source": [
    "def pred(model, test_loader):\n",
    "  model.eval()\n",
    "  pred_li = []\n",
    "\n",
    "  with torch.no_grad():\n",
    "    for image in test_loader:\n",
    "      image = image.to(DEVICE)\n",
    "      output = model(image)\n",
    "      pred_li.append(output.cpu().numpy().argmax(axis=1))\n",
    "\n",
    "  return np.concatenate(pred_li)"
   ]
  },
  {
   "cell_type": "markdown",
   "metadata": {
    "id": "IViKDmlGsFoq"
   },
   "source": [
    "# Simple_DNN"
   ]
  },
  {
   "cell_type": "markdown",
   "metadata": {
    "id": "dSLnNAGatnRb"
   },
   "source": [
    "# 제출"
   ]
  },
  {
   "cell_type": "code",
   "execution_count": 13,
   "metadata": {
    "id": "ADxy8kMw49ts"
   },
   "outputs": [],
   "source": [
    "\n",
    "EPOCHS = 150"
   ]
  },
  {
   "cell_type": "code",
   "execution_count": 14,
   "metadata": {
    "id": "DH-mIU7z49tz"
   },
   "outputs": [],
   "source": [
    "class Net(nn.Module):\n",
    "  def __init__(self):\n",
    "    super(Net, self).__init__()\n",
    "    d = 0.5\n",
    "    self.linear1 = nn.Sequential(\n",
    "        nn.Linear(28 * 28, 784),\n",
    "        nn.BatchNorm1d(784),\n",
    "        nn.LeakyReLU(),\n",
    "        nn.Dropout(d)\n",
    "    )\n",
    "    self.linear2 = nn.Sequential(\n",
    "        nn.Linear(784, 784),\n",
    "        nn.BatchNorm1d(784),\n",
    "        nn.LeakyReLU(),\n",
    "        nn.Dropout(d)\n",
    "    )\n",
    "\n",
    "    self.linear3 = nn.Sequential(\n",
    "        nn.Linear(784, 512),\n",
    "        nn.BatchNorm1d(512),\n",
    "        nn.LeakyReLU(),\n",
    "        nn.Dropout(d)\n",
    "    )\n",
    "\n",
    "    self.linear4 = nn.Sequential(\n",
    "        nn.Linear(512, 512),\n",
    "        nn.BatchNorm1d(512),\n",
    "        nn.LeakyReLU(),\n",
    "        nn.Dropout(d)\n",
    "    )\n",
    "\n",
    "\n",
    "\n",
    "    self.linear5 = nn.Sequential(\n",
    "        nn.Linear(512, 10)\n",
    "    )\n",
    "\n",
    "    self._init_weight_()\n",
    "\n",
    "  def _init_weight_(self):\n",
    "    for m in self.linear1:\n",
    "      if isinstance(m, nn.Linear):\n",
    "        nn.init.kaiming_uniform_(m.weight)\n",
    "\n",
    "    for m in self.linear2:\n",
    "      if isinstance(m, nn.Linear):\n",
    "        nn.init.kaiming_uniform_(m.weight)\n",
    "\n",
    "    for m in self.linear3:\n",
    "      if isinstance(m, nn.Linear):\n",
    "        nn.init.kaiming_uniform_(m.weight)\n",
    "    for m in self.linear4:\n",
    "      if isinstance(m, nn.Linear):\n",
    "        nn.init.kaiming_uniform_(m.weight)  \n",
    "    for m in self.linear5:\n",
    "      if isinstance(m, nn.Linear):\n",
    "        nn.init.kaiming_uniform_(m.weight)\n",
    "        \n",
    "\n",
    "  def forward(self, x):\n",
    "    x = x.view(-1, 28 * 28)\n",
    "    x = self.linear1(x)\n",
    "\n",
    "    x = self.linear2(x)\n",
    "\n",
    "    x = self.linear3(x)\n",
    "\n",
    "    x = self.linear4(x)\n",
    "    x = self.linear5(x)\n",
    "\n",
    "\n",
    "    return x"
   ]
  },
  {
   "cell_type": "code",
   "execution_count": 15,
   "metadata": {
    "colab": {
     "base_uri": "https://localhost:8080/"
    },
    "executionInfo": {
     "elapsed": 538,
     "status": "ok",
     "timestamp": 1629620830774,
     "user": {
      "displayName": "이성범",
      "photoUrl": "",
      "userId": "11166281350151773159"
     },
     "user_tz": -540
    },
    "id": "Qj9X1vtd49tz",
    "outputId": "25100768-7a04-4830-ae27-b76671a34c46"
   },
   "outputs": [
    {
     "name": "stdout",
     "output_type": "stream",
     "text": [
      "Net(\n",
      "  (linear1): Sequential(\n",
      "    (0): Linear(in_features=784, out_features=784, bias=True)\n",
      "    (1): BatchNorm1d(784, eps=1e-05, momentum=0.1, affine=True, track_running_stats=True)\n",
      "    (2): LeakyReLU(negative_slope=0.01)\n",
      "    (3): Dropout(p=0.5, inplace=False)\n",
      "  )\n",
      "  (linear2): Sequential(\n",
      "    (0): Linear(in_features=784, out_features=784, bias=True)\n",
      "    (1): BatchNorm1d(784, eps=1e-05, momentum=0.1, affine=True, track_running_stats=True)\n",
      "    (2): LeakyReLU(negative_slope=0.01)\n",
      "    (3): Dropout(p=0.5, inplace=False)\n",
      "  )\n",
      "  (linear3): Sequential(\n",
      "    (0): Linear(in_features=784, out_features=512, bias=True)\n",
      "    (1): BatchNorm1d(512, eps=1e-05, momentum=0.1, affine=True, track_running_stats=True)\n",
      "    (2): LeakyReLU(negative_slope=0.01)\n",
      "    (3): Dropout(p=0.5, inplace=False)\n",
      "  )\n",
      "  (linear4): Sequential(\n",
      "    (0): Linear(in_features=512, out_features=512, bias=True)\n",
      "    (1): BatchNorm1d(512, eps=1e-05, momentum=0.1, affine=True, track_running_stats=True)\n",
      "    (2): LeakyReLU(negative_slope=0.01)\n",
      "    (3): Dropout(p=0.5, inplace=False)\n",
      "  )\n",
      "  (linear5): Sequential(\n",
      "    (0): Linear(in_features=512, out_features=10, bias=True)\n",
      "  )\n",
      ")\n"
     ]
    }
   ],
   "source": [
    "model = Net().to(DEVICE)\n",
    "optimizer = torch.optim.Adam(model.parameters(), lr = 0.001)\n",
    "criterion = nn.CrossEntropyLoss()\n",
    "\n",
    "print(model)"
   ]
  },
  {
   "cell_type": "code",
   "execution_count": 16,
   "metadata": {
    "colab": {
     "base_uri": "https://localhost:8080/"
    },
    "executionInfo": {
     "elapsed": 745667,
     "status": "ok",
     "timestamp": 1629621576438,
     "user": {
      "displayName": "이성범",
      "photoUrl": "",
      "userId": "11166281350151773159"
     },
     "user_tz": -540
    },
    "id": "JxV_tHEm49tz",
    "outputId": "ce8802b9-19ea-4824-97d4-7e02b2158f8a"
   },
   "outputs": [
    {
     "name": "stdout",
     "output_type": "stream",
     "text": [
      "[EPOCH: 1], \tTrain Loss: 2.7839, \tTrain Accuracy: 15.04 %, \tVal Loss: 1.6133, \tVal Accuracy: 52.39 % \n",
      "\n",
      "[EPOCH: 2], \tTrain Loss: 1.6581, \tTrain Accuracy: 41.60 %, \tVal Loss: 1.2807, \tVal Accuracy: 63.56 % \n",
      "\n",
      "[EPOCH: 3], \tTrain Loss: 1.2190, \tTrain Accuracy: 56.71 %, \tVal Loss: 1.0201, \tVal Accuracy: 68.02 % \n",
      "\n",
      "[EPOCH: 4], \tTrain Loss: 1.0056, \tTrain Accuracy: 63.72 %, \tVal Loss: 0.8540, \tVal Accuracy: 70.83 % \n",
      "\n",
      "[EPOCH: 5], \tTrain Loss: 0.8751, \tTrain Accuracy: 67.84 %, \tVal Loss: 0.7776, \tVal Accuracy: 73.12 % \n",
      "\n",
      "[EPOCH: 6], \tTrain Loss: 0.8028, \tTrain Accuracy: 70.27 %, \tVal Loss: 0.7333, \tVal Accuracy: 74.75 % \n",
      "\n",
      "[EPOCH: 7], \tTrain Loss: 0.7570, \tTrain Accuracy: 72.10 %, \tVal Loss: 0.6861, \tVal Accuracy: 76.18 % \n",
      "\n",
      "[EPOCH: 8], \tTrain Loss: 0.7122, \tTrain Accuracy: 73.98 %, \tVal Loss: 0.6301, \tVal Accuracy: 77.79 % \n",
      "\n",
      "[EPOCH: 9], \tTrain Loss: 0.6865, \tTrain Accuracy: 75.16 %, \tVal Loss: 0.5783, \tVal Accuracy: 79.61 % \n",
      "\n",
      "[EPOCH: 10], \tTrain Loss: 0.6573, \tTrain Accuracy: 76.08 %, \tVal Loss: 0.5455, \tVal Accuracy: 80.93 % \n",
      "\n",
      "[EPOCH: 11], \tTrain Loss: 0.6330, \tTrain Accuracy: 76.96 %, \tVal Loss: 0.5247, \tVal Accuracy: 81.64 % \n",
      "\n",
      "[EPOCH: 12], \tTrain Loss: 0.6122, \tTrain Accuracy: 77.76 %, \tVal Loss: 0.5107, \tVal Accuracy: 81.92 % \n",
      "\n",
      "[EPOCH: 13], \tTrain Loss: 0.5922, \tTrain Accuracy: 78.55 %, \tVal Loss: 0.5017, \tVal Accuracy: 82.08 % \n",
      "\n",
      "[EPOCH: 14], \tTrain Loss: 0.5755, \tTrain Accuracy: 79.42 %, \tVal Loss: 0.4881, \tVal Accuracy: 82.76 % \n",
      "\n",
      "[EPOCH: 15], \tTrain Loss: 0.5599, \tTrain Accuracy: 80.11 %, \tVal Loss: 0.4709, \tVal Accuracy: 83.28 % \n",
      "\n",
      "[EPOCH: 16], \tTrain Loss: 0.5472, \tTrain Accuracy: 80.43 %, \tVal Loss: 0.4564, \tVal Accuracy: 83.68 % \n",
      "\n",
      "[EPOCH: 17], \tTrain Loss: 0.5325, \tTrain Accuracy: 81.02 %, \tVal Loss: 0.4440, \tVal Accuracy: 84.02 % \n",
      "\n",
      "[EPOCH: 18], \tTrain Loss: 0.5211, \tTrain Accuracy: 81.38 %, \tVal Loss: 0.4339, \tVal Accuracy: 84.42 % \n",
      "\n",
      "[EPOCH: 19], \tTrain Loss: 0.5152, \tTrain Accuracy: 81.81 %, \tVal Loss: 0.4241, \tVal Accuracy: 84.82 % \n",
      "\n",
      "[EPOCH: 20], \tTrain Loss: 0.5058, \tTrain Accuracy: 82.04 %, \tVal Loss: 0.4162, \tVal Accuracy: 84.78 % \n",
      "\n",
      "[EPOCH: 21], \tTrain Loss: 0.4933, \tTrain Accuracy: 82.66 %, \tVal Loss: 0.4104, \tVal Accuracy: 84.87 % \n",
      "\n",
      "[EPOCH: 22], \tTrain Loss: 0.4875, \tTrain Accuracy: 82.66 %, \tVal Loss: 0.4039, \tVal Accuracy: 85.23 % \n",
      "\n",
      "[EPOCH: 23], \tTrain Loss: 0.4737, \tTrain Accuracy: 83.09 %, \tVal Loss: 0.3987, \tVal Accuracy: 85.50 % \n",
      "\n",
      "[EPOCH: 24], \tTrain Loss: 0.4717, \tTrain Accuracy: 83.17 %, \tVal Loss: 0.3933, \tVal Accuracy: 85.72 % \n",
      "\n",
      "[EPOCH: 25], \tTrain Loss: 0.4631, \tTrain Accuracy: 83.49 %, \tVal Loss: 0.3882, \tVal Accuracy: 85.93 % \n",
      "\n",
      "[EPOCH: 26], \tTrain Loss: 0.4546, \tTrain Accuracy: 83.95 %, \tVal Loss: 0.3822, \tVal Accuracy: 86.13 % \n",
      "\n",
      "[EPOCH: 27], \tTrain Loss: 0.4477, \tTrain Accuracy: 83.86 %, \tVal Loss: 0.3764, \tVal Accuracy: 86.36 % \n",
      "\n",
      "[EPOCH: 28], \tTrain Loss: 0.4436, \tTrain Accuracy: 84.26 %, \tVal Loss: 0.3715, \tVal Accuracy: 86.56 % \n",
      "\n",
      "[EPOCH: 29], \tTrain Loss: 0.4367, \tTrain Accuracy: 84.32 %, \tVal Loss: 0.3675, \tVal Accuracy: 86.63 % \n",
      "\n",
      "[EPOCH: 30], \tTrain Loss: 0.4314, \tTrain Accuracy: 84.53 %, \tVal Loss: 0.3627, \tVal Accuracy: 86.85 % \n",
      "\n",
      "[EPOCH: 31], \tTrain Loss: 0.4302, \tTrain Accuracy: 84.54 %, \tVal Loss: 0.3591, \tVal Accuracy: 86.92 % \n",
      "\n",
      "[EPOCH: 32], \tTrain Loss: 0.4244, \tTrain Accuracy: 85.01 %, \tVal Loss: 0.3563, \tVal Accuracy: 86.95 % \n",
      "\n",
      "[EPOCH: 33], \tTrain Loss: 0.4155, \tTrain Accuracy: 85.13 %, \tVal Loss: 0.3555, \tVal Accuracy: 86.87 % \n",
      "\n",
      "[EPOCH: 34], \tTrain Loss: 0.4149, \tTrain Accuracy: 85.14 %, \tVal Loss: 0.3500, \tVal Accuracy: 87.14 % \n",
      "\n",
      "[EPOCH: 35], \tTrain Loss: 0.4038, \tTrain Accuracy: 85.54 %, \tVal Loss: 0.3451, \tVal Accuracy: 87.31 % \n",
      "\n",
      "[EPOCH: 36], \tTrain Loss: 0.4038, \tTrain Accuracy: 85.50 %, \tVal Loss: 0.3434, \tVal Accuracy: 87.18 % \n",
      "\n",
      "[EPOCH: 37], \tTrain Loss: 0.4007, \tTrain Accuracy: 85.69 %, \tVal Loss: 0.3397, \tVal Accuracy: 87.45 % \n",
      "\n",
      "[EPOCH: 38], \tTrain Loss: 0.3974, \tTrain Accuracy: 85.60 %, \tVal Loss: 0.3381, \tVal Accuracy: 87.62 % \n",
      "\n",
      "[EPOCH: 39], \tTrain Loss: 0.3971, \tTrain Accuracy: 85.86 %, \tVal Loss: 0.3347, \tVal Accuracy: 87.74 % \n",
      "\n",
      "[EPOCH: 40], \tTrain Loss: 0.3889, \tTrain Accuracy: 85.98 %, \tVal Loss: 0.3341, \tVal Accuracy: 87.69 % \n",
      "\n",
      "[EPOCH: 41], \tTrain Loss: 0.3858, \tTrain Accuracy: 86.09 %, \tVal Loss: 0.3330, \tVal Accuracy: 87.73 % \n",
      "\n",
      "[EPOCH: 42], \tTrain Loss: 0.3774, \tTrain Accuracy: 86.55 %, \tVal Loss: 0.3292, \tVal Accuracy: 87.92 % \n",
      "\n",
      "[EPOCH: 43], \tTrain Loss: 0.3800, \tTrain Accuracy: 86.33 %, \tVal Loss: 0.3261, \tVal Accuracy: 88.09 % \n",
      "\n",
      "[EPOCH: 44], \tTrain Loss: 0.3737, \tTrain Accuracy: 86.58 %, \tVal Loss: 0.3250, \tVal Accuracy: 88.15 % \n",
      "\n",
      "[EPOCH: 45], \tTrain Loss: 0.3748, \tTrain Accuracy: 86.59 %, \tVal Loss: 0.3240, \tVal Accuracy: 88.18 % \n",
      "\n",
      "[EPOCH: 46], \tTrain Loss: 0.3662, \tTrain Accuracy: 86.80 %, \tVal Loss: 0.3198, \tVal Accuracy: 88.30 % \n",
      "\n",
      "[EPOCH: 47], \tTrain Loss: 0.3666, \tTrain Accuracy: 86.91 %, \tVal Loss: 0.3197, \tVal Accuracy: 88.25 % \n",
      "\n",
      "[EPOCH: 48], \tTrain Loss: 0.3619, \tTrain Accuracy: 87.02 %, \tVal Loss: 0.3179, \tVal Accuracy: 88.15 % \n",
      "\n",
      "[EPOCH: 49], \tTrain Loss: 0.3642, \tTrain Accuracy: 86.99 %, \tVal Loss: 0.3146, \tVal Accuracy: 88.51 % \n",
      "\n",
      "[EPOCH: 50], \tTrain Loss: 0.3571, \tTrain Accuracy: 87.06 %, \tVal Loss: 0.3124, \tVal Accuracy: 88.58 % \n",
      "\n",
      "[EPOCH: 51], \tTrain Loss: 0.3552, \tTrain Accuracy: 87.17 %, \tVal Loss: 0.3134, \tVal Accuracy: 88.54 % \n",
      "\n",
      "[EPOCH: 52], \tTrain Loss: 0.3500, \tTrain Accuracy: 87.55 %, \tVal Loss: 0.3118, \tVal Accuracy: 88.61 % \n",
      "\n",
      "[EPOCH: 53], \tTrain Loss: 0.3459, \tTrain Accuracy: 87.60 %, \tVal Loss: 0.3120, \tVal Accuracy: 88.64 % \n",
      "\n",
      "[EPOCH: 54], \tTrain Loss: 0.3426, \tTrain Accuracy: 87.58 %, \tVal Loss: 0.3102, \tVal Accuracy: 88.81 % \n",
      "\n",
      "[EPOCH: 55], \tTrain Loss: 0.3459, \tTrain Accuracy: 87.73 %, \tVal Loss: 0.3086, \tVal Accuracy: 88.83 % \n",
      "\n",
      "[EPOCH: 56], \tTrain Loss: 0.3398, \tTrain Accuracy: 87.79 %, \tVal Loss: 0.3066, \tVal Accuracy: 88.96 % \n",
      "\n",
      "[EPOCH: 57], \tTrain Loss: 0.3369, \tTrain Accuracy: 87.93 %, \tVal Loss: 0.3061, \tVal Accuracy: 89.04 % \n",
      "\n",
      "[EPOCH: 58], \tTrain Loss: 0.3325, \tTrain Accuracy: 88.07 %, \tVal Loss: 0.3033, \tVal Accuracy: 89.02 % \n",
      "\n",
      "[EPOCH: 59], \tTrain Loss: 0.3321, \tTrain Accuracy: 88.06 %, \tVal Loss: 0.3020, \tVal Accuracy: 89.04 % \n",
      "\n",
      "[EPOCH: 60], \tTrain Loss: 0.3265, \tTrain Accuracy: 88.17 %, \tVal Loss: 0.3021, \tVal Accuracy: 89.03 % \n",
      "\n",
      "[EPOCH: 61], \tTrain Loss: 0.3225, \tTrain Accuracy: 88.41 %, \tVal Loss: 0.3016, \tVal Accuracy: 89.03 % \n",
      "\n",
      "[EPOCH: 62], \tTrain Loss: 0.3257, \tTrain Accuracy: 88.38 %, \tVal Loss: 0.3007, \tVal Accuracy: 89.13 % \n",
      "\n",
      "[EPOCH: 63], \tTrain Loss: 0.3204, \tTrain Accuracy: 88.44 %, \tVal Loss: 0.2991, \tVal Accuracy: 89.08 % \n",
      "\n",
      "[EPOCH: 64], \tTrain Loss: 0.3140, \tTrain Accuracy: 88.58 %, \tVal Loss: 0.2989, \tVal Accuracy: 89.13 % \n",
      "\n",
      "[EPOCH: 65], \tTrain Loss: 0.3189, \tTrain Accuracy: 88.45 %, \tVal Loss: 0.2966, \tVal Accuracy: 89.30 % \n",
      "\n",
      "[EPOCH: 66], \tTrain Loss: 0.3139, \tTrain Accuracy: 88.72 %, \tVal Loss: 0.2959, \tVal Accuracy: 89.52 % \n",
      "\n",
      "[EPOCH: 67], \tTrain Loss: 0.3103, \tTrain Accuracy: 88.79 %, \tVal Loss: 0.2976, \tVal Accuracy: 89.34 % \n",
      "\n",
      "[EPOCH: 68], \tTrain Loss: 0.3079, \tTrain Accuracy: 88.81 %, \tVal Loss: 0.2949, \tVal Accuracy: 89.31 % \n",
      "\n",
      "[EPOCH: 69], \tTrain Loss: 0.3073, \tTrain Accuracy: 88.95 %, \tVal Loss: 0.2954, \tVal Accuracy: 89.40 % \n",
      "\n",
      "[EPOCH: 70], \tTrain Loss: 0.3062, \tTrain Accuracy: 89.02 %, \tVal Loss: 0.2943, \tVal Accuracy: 89.45 % \n",
      "\n",
      "[EPOCH: 71], \tTrain Loss: 0.3038, \tTrain Accuracy: 89.07 %, \tVal Loss: 0.2931, \tVal Accuracy: 89.57 % \n",
      "\n",
      "[EPOCH: 72], \tTrain Loss: 0.3007, \tTrain Accuracy: 89.31 %, \tVal Loss: 0.2918, \tVal Accuracy: 89.67 % \n",
      "\n",
      "[EPOCH: 73], \tTrain Loss: 0.2966, \tTrain Accuracy: 89.29 %, \tVal Loss: 0.2951, \tVal Accuracy: 89.57 % \n",
      "\n",
      "[EPOCH: 74], \tTrain Loss: 0.2938, \tTrain Accuracy: 89.38 %, \tVal Loss: 0.2900, \tVal Accuracy: 89.60 % \n",
      "\n",
      "[EPOCH: 75], \tTrain Loss: 0.2921, \tTrain Accuracy: 89.38 %, \tVal Loss: 0.2931, \tVal Accuracy: 89.53 % \n",
      "\n",
      "[EPOCH: 76], \tTrain Loss: 0.2904, \tTrain Accuracy: 89.51 %, \tVal Loss: 0.2908, \tVal Accuracy: 89.61 % \n",
      "\n",
      "[EPOCH: 77], \tTrain Loss: 0.2891, \tTrain Accuracy: 89.56 %, \tVal Loss: 0.2908, \tVal Accuracy: 89.58 % \n",
      "\n",
      "[EPOCH: 78], \tTrain Loss: 0.2831, \tTrain Accuracy: 89.76 %, \tVal Loss: 0.2934, \tVal Accuracy: 89.47 % \n",
      "\n",
      "[EPOCH: 79], \tTrain Loss: 0.2852, \tTrain Accuracy: 89.61 %, \tVal Loss: 0.2895, \tVal Accuracy: 89.76 % \n",
      "\n"
     ]
    },
    {
     "name": "stdout",
     "output_type": "stream",
     "text": [
      "[EPOCH: 80], \tTrain Loss: 0.2808, \tTrain Accuracy: 89.92 %, \tVal Loss: 0.2896, \tVal Accuracy: 89.86 % \n",
      "\n",
      "[EPOCH: 81], \tTrain Loss: 0.2837, \tTrain Accuracy: 89.70 %, \tVal Loss: 0.2890, \tVal Accuracy: 89.70 % \n",
      "\n",
      "[EPOCH: 82], \tTrain Loss: 0.2785, \tTrain Accuracy: 90.05 %, \tVal Loss: 0.3002, \tVal Accuracy: 89.37 % \n",
      "\n",
      "[EPOCH: 83], \tTrain Loss: 0.2761, \tTrain Accuracy: 90.02 %, \tVal Loss: 0.2931, \tVal Accuracy: 89.82 % \n",
      "\n",
      "[EPOCH: 84], \tTrain Loss: 0.2774, \tTrain Accuracy: 89.91 %, \tVal Loss: 0.2949, \tVal Accuracy: 89.63 % \n",
      "\n",
      "[EPOCH: 85], \tTrain Loss: 0.2725, \tTrain Accuracy: 90.27 %, \tVal Loss: 0.2877, \tVal Accuracy: 89.76 % \n",
      "\n",
      "[EPOCH: 86], \tTrain Loss: 0.2696, \tTrain Accuracy: 90.27 %, \tVal Loss: 0.2897, \tVal Accuracy: 89.82 % \n",
      "\n",
      "[EPOCH: 87], \tTrain Loss: 0.2725, \tTrain Accuracy: 90.25 %, \tVal Loss: 0.2914, \tVal Accuracy: 89.60 % \n",
      "\n",
      "[EPOCH: 88], \tTrain Loss: 0.2699, \tTrain Accuracy: 90.16 %, \tVal Loss: 0.2959, \tVal Accuracy: 89.66 % \n",
      "\n",
      "[EPOCH: 89], \tTrain Loss: 0.2620, \tTrain Accuracy: 90.45 %, \tVal Loss: 0.2890, \tVal Accuracy: 89.76 % \n",
      "\n",
      "[EPOCH: 90], \tTrain Loss: 0.2637, \tTrain Accuracy: 90.58 %, \tVal Loss: 0.2974, \tVal Accuracy: 89.51 % \n",
      "\n",
      "[EPOCH: 91], \tTrain Loss: 0.2610, \tTrain Accuracy: 90.68 %, \tVal Loss: 0.2896, \tVal Accuracy: 89.76 % \n",
      "\n",
      "[EPOCH: 92], \tTrain Loss: 0.2587, \tTrain Accuracy: 90.68 %, \tVal Loss: 0.2928, \tVal Accuracy: 89.76 % \n",
      "\n",
      "[EPOCH: 93], \tTrain Loss: 0.2582, \tTrain Accuracy: 90.76 %, \tVal Loss: 0.2885, \tVal Accuracy: 89.99 % \n",
      "\n",
      "[EPOCH: 94], \tTrain Loss: 0.2560, \tTrain Accuracy: 90.70 %, \tVal Loss: 0.2910, \tVal Accuracy: 89.78 % \n",
      "\n",
      "[EPOCH: 95], \tTrain Loss: 0.2522, \tTrain Accuracy: 90.99 %, \tVal Loss: 0.2887, \tVal Accuracy: 90.08 % \n",
      "\n",
      "[EPOCH: 96], \tTrain Loss: 0.2493, \tTrain Accuracy: 90.98 %, \tVal Loss: 0.2935, \tVal Accuracy: 89.82 % \n",
      "\n",
      "[EPOCH: 97], \tTrain Loss: 0.2511, \tTrain Accuracy: 90.94 %, \tVal Loss: 0.2923, \tVal Accuracy: 89.86 % \n",
      "\n",
      "[EPOCH: 98], \tTrain Loss: 0.2479, \tTrain Accuracy: 91.05 %, \tVal Loss: 0.2902, \tVal Accuracy: 89.87 % \n",
      "\n",
      "[EPOCH: 99], \tTrain Loss: 0.2418, \tTrain Accuracy: 91.21 %, \tVal Loss: 0.2961, \tVal Accuracy: 89.57 % \n",
      "\n",
      "[EPOCH: 100], \tTrain Loss: 0.2455, \tTrain Accuracy: 91.07 %, \tVal Loss: 0.2905, \tVal Accuracy: 89.87 % \n",
      "\n",
      "[EPOCH: 101], \tTrain Loss: 0.2438, \tTrain Accuracy: 91.03 %, \tVal Loss: 0.2836, \tVal Accuracy: 90.18 % \n",
      "\n",
      "[EPOCH: 102], \tTrain Loss: 0.2395, \tTrain Accuracy: 91.33 %, \tVal Loss: 0.2904, \tVal Accuracy: 90.06 % \n",
      "\n",
      "[EPOCH: 103], \tTrain Loss: 0.2385, \tTrain Accuracy: 91.50 %, \tVal Loss: 0.2902, \tVal Accuracy: 90.12 % \n",
      "\n",
      "[EPOCH: 104], \tTrain Loss: 0.2356, \tTrain Accuracy: 91.47 %, \tVal Loss: 0.2953, \tVal Accuracy: 89.90 % \n",
      "\n",
      "[EPOCH: 105], \tTrain Loss: 0.2359, \tTrain Accuracy: 91.55 %, \tVal Loss: 0.2914, \tVal Accuracy: 89.98 % \n",
      "\n",
      "[EPOCH: 106], \tTrain Loss: 0.2359, \tTrain Accuracy: 91.53 %, \tVal Loss: 0.2947, \tVal Accuracy: 89.93 % \n",
      "\n",
      "[EPOCH: 107], \tTrain Loss: 0.2310, \tTrain Accuracy: 91.56 %, \tVal Loss: 0.2839, \tVal Accuracy: 90.30 % \n",
      "\n",
      "[EPOCH: 108], \tTrain Loss: 0.2291, \tTrain Accuracy: 91.80 %, \tVal Loss: 0.2849, \tVal Accuracy: 90.08 % \n",
      "\n",
      "[EPOCH: 109], \tTrain Loss: 0.2264, \tTrain Accuracy: 91.84 %, \tVal Loss: 0.2864, \tVal Accuracy: 90.05 % \n",
      "\n",
      "[EPOCH: 110], \tTrain Loss: 0.2250, \tTrain Accuracy: 91.82 %, \tVal Loss: 0.2913, \tVal Accuracy: 90.08 % \n",
      "\n",
      "[EPOCH: 111], \tTrain Loss: 0.2245, \tTrain Accuracy: 91.83 %, \tVal Loss: 0.2881, \tVal Accuracy: 90.13 % \n",
      "\n",
      "[EPOCH: 112], \tTrain Loss: 0.2229, \tTrain Accuracy: 92.08 %, \tVal Loss: 0.2950, \tVal Accuracy: 90.08 % \n",
      "\n",
      "[EPOCH: 113], \tTrain Loss: 0.2211, \tTrain Accuracy: 91.96 %, \tVal Loss: 0.2907, \tVal Accuracy: 90.22 % \n",
      "\n",
      "[EPOCH: 114], \tTrain Loss: 0.2188, \tTrain Accuracy: 92.16 %, \tVal Loss: 0.2916, \tVal Accuracy: 90.29 % \n",
      "\n",
      "[EPOCH: 115], \tTrain Loss: 0.2183, \tTrain Accuracy: 92.19 %, \tVal Loss: 0.2874, \tVal Accuracy: 90.13 % \n",
      "\n",
      "[EPOCH: 116], \tTrain Loss: 0.2150, \tTrain Accuracy: 92.18 %, \tVal Loss: 0.2848, \tVal Accuracy: 90.38 % \n",
      "\n",
      "[EPOCH: 117], \tTrain Loss: 0.2136, \tTrain Accuracy: 92.24 %, \tVal Loss: 0.2904, \tVal Accuracy: 90.18 % \n",
      "\n",
      "[EPOCH: 118], \tTrain Loss: 0.2137, \tTrain Accuracy: 92.28 %, \tVal Loss: 0.2900, \tVal Accuracy: 90.29 % \n",
      "\n",
      "[EPOCH: 119], \tTrain Loss: 0.2128, \tTrain Accuracy: 92.35 %, \tVal Loss: 0.2864, \tVal Accuracy: 90.30 % \n",
      "\n",
      "[EPOCH: 120], \tTrain Loss: 0.2120, \tTrain Accuracy: 92.40 %, \tVal Loss: 0.2902, \tVal Accuracy: 90.19 % \n",
      "\n",
      "[EPOCH: 121], \tTrain Loss: 0.2073, \tTrain Accuracy: 92.68 %, \tVal Loss: 0.2925, \tVal Accuracy: 90.24 % \n",
      "\n",
      "[EPOCH: 122], \tTrain Loss: 0.2061, \tTrain Accuracy: 92.48 %, \tVal Loss: 0.2890, \tVal Accuracy: 90.43 % \n",
      "\n",
      "[EPOCH: 123], \tTrain Loss: 0.2041, \tTrain Accuracy: 92.68 %, \tVal Loss: 0.3074, \tVal Accuracy: 89.41 % \n",
      "\n",
      "[EPOCH: 124], \tTrain Loss: 0.2025, \tTrain Accuracy: 92.59 %, \tVal Loss: 0.2997, \tVal Accuracy: 90.03 % \n",
      "\n",
      "[EPOCH: 125], \tTrain Loss: 0.2005, \tTrain Accuracy: 92.76 %, \tVal Loss: 0.3077, \tVal Accuracy: 89.87 % \n",
      "\n",
      "[EPOCH: 126], \tTrain Loss: 0.2017, \tTrain Accuracy: 92.61 %, \tVal Loss: 0.2913, \tVal Accuracy: 90.34 % \n",
      "\n",
      "[EPOCH: 127], \tTrain Loss: 0.1974, \tTrain Accuracy: 92.90 %, \tVal Loss: 0.2945, \tVal Accuracy: 90.28 % \n",
      "\n",
      "[EPOCH: 128], \tTrain Loss: 0.1985, \tTrain Accuracy: 92.88 %, \tVal Loss: 0.3004, \tVal Accuracy: 90.09 % \n",
      "\n",
      "[EPOCH: 129], \tTrain Loss: 0.1965, \tTrain Accuracy: 92.91 %, \tVal Loss: 0.2902, \tVal Accuracy: 90.51 % \n",
      "\n",
      "[EPOCH: 130], \tTrain Loss: 0.1942, \tTrain Accuracy: 92.99 %, \tVal Loss: 0.2996, \tVal Accuracy: 90.16 % \n",
      "\n",
      "[EPOCH: 131], \tTrain Loss: 0.1945, \tTrain Accuracy: 93.01 %, \tVal Loss: 0.2936, \tVal Accuracy: 90.35 % \n",
      "\n",
      "[EPOCH: 132], \tTrain Loss: 0.1928, \tTrain Accuracy: 93.08 %, \tVal Loss: 0.2973, \tVal Accuracy: 90.17 % \n",
      "\n",
      "[EPOCH: 133], \tTrain Loss: 0.1896, \tTrain Accuracy: 93.17 %, \tVal Loss: 0.2913, \tVal Accuracy: 90.45 % \n",
      "\n",
      "[EPOCH: 134], \tTrain Loss: 0.1847, \tTrain Accuracy: 93.42 %, \tVal Loss: 0.2900, \tVal Accuracy: 90.39 % \n",
      "\n",
      "[EPOCH: 135], \tTrain Loss: 0.1859, \tTrain Accuracy: 93.33 %, \tVal Loss: 0.2865, \tVal Accuracy: 90.47 % \n",
      "\n",
      "[EPOCH: 136], \tTrain Loss: 0.1851, \tTrain Accuracy: 93.40 %, \tVal Loss: 0.2931, \tVal Accuracy: 90.31 % \n",
      "\n",
      "[EPOCH: 137], \tTrain Loss: 0.1838, \tTrain Accuracy: 93.47 %, \tVal Loss: 0.3002, \tVal Accuracy: 90.03 % \n",
      "\n",
      "[EPOCH: 138], \tTrain Loss: 0.1793, \tTrain Accuracy: 93.57 %, \tVal Loss: 0.2944, \tVal Accuracy: 90.49 % \n",
      "\n",
      "[EPOCH: 139], \tTrain Loss: 0.1789, \tTrain Accuracy: 93.62 %, \tVal Loss: 0.2959, \tVal Accuracy: 90.45 % \n",
      "\n",
      "[EPOCH: 140], \tTrain Loss: 0.1783, \tTrain Accuracy: 93.59 %, \tVal Loss: 0.2980, \tVal Accuracy: 90.31 % \n",
      "\n",
      "[EPOCH: 141], \tTrain Loss: 0.1753, \tTrain Accuracy: 93.69 %, \tVal Loss: 0.2985, \tVal Accuracy: 90.29 % \n",
      "\n",
      "[EPOCH: 142], \tTrain Loss: 0.1763, \tTrain Accuracy: 93.64 %, \tVal Loss: 0.2936, \tVal Accuracy: 90.48 % \n",
      "\n",
      "[EPOCH: 143], \tTrain Loss: 0.1744, \tTrain Accuracy: 93.70 %, \tVal Loss: 0.2949, \tVal Accuracy: 90.50 % \n",
      "\n",
      "[EPOCH: 144], \tTrain Loss: 0.1745, \tTrain Accuracy: 93.88 %, \tVal Loss: 0.3116, \tVal Accuracy: 89.86 % \n",
      "\n",
      "[EPOCH: 145], \tTrain Loss: 0.1716, \tTrain Accuracy: 93.87 %, \tVal Loss: 0.2986, \tVal Accuracy: 90.34 % \n",
      "\n",
      "[EPOCH: 146], \tTrain Loss: 0.1706, \tTrain Accuracy: 93.85 %, \tVal Loss: 0.2989, \tVal Accuracy: 90.18 % \n",
      "\n",
      "[EPOCH: 147], \tTrain Loss: 0.1705, \tTrain Accuracy: 94.01 %, \tVal Loss: 0.3059, \tVal Accuracy: 90.17 % \n",
      "\n",
      "[EPOCH: 148], \tTrain Loss: 0.1680, \tTrain Accuracy: 93.98 %, \tVal Loss: 0.3115, \tVal Accuracy: 89.86 % \n",
      "\n",
      "[EPOCH: 149], \tTrain Loss: 0.1687, \tTrain Accuracy: 93.96 %, \tVal Loss: 0.2975, \tVal Accuracy: 90.62 % \n",
      "\n",
      "[EPOCH: 150], \tTrain Loss: 0.1668, \tTrain Accuracy: 94.18 %, \tVal Loss: 0.2982, \tVal Accuracy: 90.64 % \n",
      "\n"
     ]
    }
   ],
   "source": [
    "result_list = []\n",
    "for epoch in range(1, EPOCHS + 1):\n",
    "    train_loss, train_accuracy = train(model, train_loader)\n",
    "    val_loss, val_accuracy = evaluate(model, val_loader)\n",
    "    print(f\"[EPOCH: {epoch}], \\tTrain Loss: {train_loss:.4f}, \\tTrain Accuracy: {train_accuracy:.2f} %, \\tVal Loss: {val_loss:.4f}, \\tVal Accuracy: {val_accuracy:.2f} % \\n\")\n",
    "    result = {\n",
    "    'EPOCH': epoch,\n",
    "    'Train Loss': train_loss,\n",
    "    'Train Accuracy': train_accuracy,\n",
    "    'Val Loss': val_loss,\n",
    "    'Val Accuracy': val_accuracy}\n",
    "\n",
    "    result_list.append(result)\n",
    "result_df = pd.DataFrame(result_list)"
   ]
  },
  {
   "cell_type": "code",
   "execution_count": 17,
   "metadata": {},
   "outputs": [
    {
     "name": "stdout",
     "output_type": "stream",
     "text": [
      "Tue Mar  8 14:18:50 2022       \n",
      "+-----------------------------------------------------------------------------+\n",
      "| NVIDIA-SMI 470.103.01   Driver Version: 470.103.01   CUDA Version: 11.4     |\n",
      "|-------------------------------+----------------------+----------------------+\n",
      "| GPU  Name        Persistence-M| Bus-Id        Disp.A | Volatile Uncorr. ECC |\n",
      "| Fan  Temp  Perf  Pwr:Usage/Cap|         Memory-Usage | GPU-Util  Compute M. |\n",
      "|                               |                      |               MIG M. |\n",
      "|===============================+======================+======================|\n",
      "|   0  NVIDIA TITAN V      Off  | 00000000:5E:00.0 Off |                  N/A |\n",
      "| 28%   40C    P2    41W / 250W |  11915MiB / 12066MiB |      3%      Default |\n",
      "|                               |                      |                  N/A |\n",
      "+-------------------------------+----------------------+----------------------+\n",
      "|   1  NVIDIA TITAN RTX    Off  | 00000000:D9:00.0 Off |                  N/A |\n",
      "| 41%   34C    P8    16W / 280W |   1586MiB / 24220MiB |      0%      Default |\n",
      "|                               |                      |                  N/A |\n",
      "+-------------------------------+----------------------+----------------------+\n",
      "                                                                               \n",
      "+-----------------------------------------------------------------------------+\n",
      "| Processes:                                                                  |\n",
      "|  GPU   GI   CI        PID   Type   Process name                  GPU Memory |\n",
      "|        ID   ID                                                   Usage      |\n",
      "|=============================================================================|\n",
      "|    0   N/A  N/A     16158      C   ...nvs/hyeokjong2/bin/python     2565MiB |\n",
      "|    0   N/A  N/A     16561      C   ...nvs/hyeokjong2/bin/python     2085MiB |\n",
      "|    0   N/A  N/A     16792      C   ...nvs/hyeokjong2/bin/python     2553MiB |\n",
      "|    0   N/A  N/A     18739      C   ...nvs/hyeokjong2/bin/python     2253MiB |\n",
      "|    0   N/A  N/A     18912      C   ...nvs/hyeokjong2/bin/python     2455MiB |\n",
      "|    1   N/A  N/A     18356      C   ...nvs/hyeokjong2/bin/python     1583MiB |\n",
      "+-----------------------------------------------------------------------------+\n"
     ]
    }
   ],
   "source": [
    "!nvidia-smi"
   ]
  },
  {
   "cell_type": "code",
   "execution_count": 18,
   "metadata": {
    "colab": {
     "base_uri": "https://localhost:8080/",
     "height": 336
    },
    "executionInfo": {
     "elapsed": 890,
     "status": "ok",
     "timestamp": 1629621577317,
     "user": {
      "displayName": "이성범",
      "photoUrl": "",
      "userId": "11166281350151773159"
     },
     "user_tz": -540
    },
    "id": "dQ2cZnIY49t0",
    "outputId": "3992c162-7a13-48e0-b30a-dcb366a182b1"
   },
   "outputs": [
    {
     "data": {
      "image/png": "[encoded data removed]",
      "text/plain": [
       "<Figure size 1080x360 with 2 Axes>"
      ]
     },
     "metadata": {
      "needs_background": "light"
     },
     "output_type": "display_data"
    }
   ],
   "source": [
    "fig, axes = plt.subplots(nrows=1, ncols=2, figsize=(15, 5))\n",
    "\n",
    "axes[0].plot(result_df['EPOCH'], result_df['Train Loss'], label='Train Loss')\n",
    "axes[0].plot(result_df['EPOCH'], result_df['Val Loss'], label='Val Loss')\n",
    "axes[0].set_ylim(0.0, 1)\n",
    "axes[0].legend()\n",
    "axes[0].set_title('Loss')\n",
    "\n",
    "axes[1].plot(result_df['EPOCH'], result_df['Train Accuracy'], label='Train Accuracy')\n",
    "axes[1].plot(result_df['EPOCH'], result_df['Val Accuracy'], label='Val Accuracy')\n",
    "axes[1].set_ylim(80, 100)\n",
    "axes[1].legend()\n",
    "axes[1].set_title('ACC')\n",
    "\n",
    "plt.show()"
   ]
  },
  {
   "cell_type": "code",
   "execution_count": 22,
   "metadata": {
    "colab": {
     "base_uri": "https://localhost:8080/",
     "height": 202
    },
    "executionInfo": {
     "elapsed": 8,
     "status": "ok",
     "timestamp": 1629621577317,
     "user": {
      "displayName": "이성범",
      "photoUrl": "",
      "userId": "11166281350151773159"
     },
     "user_tz": -540
    },
    "id": "P2oIdaLGtozX",
    "outputId": "48b36097-4964-45a5-d55a-cc17a9cb6a87",
    "scrolled": true
   },
   "outputs": [
    {
     "data": {
      "text/html": [
       "<div>\n",
       "<style scoped>\n",
       "    .dataframe tbody tr th:only-of-type {\n",
       "        vertical-align: middle;\n",
       "    }\n",
       "\n",
       "    .dataframe tbody tr th {\n",
       "        vertical-align: top;\n",
       "    }\n",
       "\n",
       "    .dataframe thead th {\n",
       "        text-align: right;\n",
       "    }\n",
       "</style>\n",
       "<table border=\"1\" class=\"dataframe\">\n",
       "  <thead>\n",
       "    <tr style=\"text-align: right;\">\n",
       "      <th></th>\n",
       "      <th>id</th>\n",
       "      <th>label</th>\n",
       "    </tr>\n",
       "  </thead>\n",
       "  <tbody>\n",
       "    <tr>\n",
       "      <th>0</th>\n",
       "      <td>0</td>\n",
       "      <td>6</td>\n",
       "    </tr>\n",
       "    <tr>\n",
       "      <th>1</th>\n",
       "      <td>1</td>\n",
       "      <td>3</td>\n",
       "    </tr>\n",
       "    <tr>\n",
       "      <th>2</th>\n",
       "      <td>2</td>\n",
       "      <td>0</td>\n",
       "    </tr>\n",
       "    <tr>\n",
       "      <th>3</th>\n",
       "      <td>3</td>\n",
       "      <td>6</td>\n",
       "    </tr>\n",
       "    <tr>\n",
       "      <th>4</th>\n",
       "      <td>4</td>\n",
       "      <td>6</td>\n",
       "    </tr>\n",
       "  </tbody>\n",
       "</table>\n",
       "</div>"
      ],
      "text/plain": [
       "   id  label\n",
       "0   0      6\n",
       "1   1      3\n",
       "2   2      0\n",
       "3   3      6\n",
       "4   4      6"
      ]
     },
     "execution_count": 22,
     "metadata": {},
     "output_type": "execute_result"
    }
   ],
   "source": [
    "\n",
    "pred_label = pred(model, test_loader)\n",
    "\n",
    "submission['label'] = pred_label\n",
    "\n",
    "submission.to_csv(data_dir + '/BaseLine_Model_0.csv', index = False)\n",
    "\n",
    "submission.head()\n"
   ]
  },
  {
   "cell_type": "code",
   "execution_count": 21,
   "metadata": {},
   "outputs": [
    {
     "data": {
      "text/plain": [
       "pandas.core.frame.DataFrame"
      ]
     },
     "execution_count": 21,
     "metadata": {},
     "output_type": "execute_result"
    }
   ],
   "source": [
    "type(submission)"
   ]
  },
  {
   "cell_type": "markdown",
   "metadata": {
    "id": "UwCKGN68-Jzw"
   },
   "source": [
    "##### "
   ]
  }
 ],
 "metadata": {
  "accelerator": "GPU",
  "colab": {
   "collapsed_sections": [],
   "name": "Week7_NN심화_BaseLine_Model.ipynb",
   "provenance": []
  },
  "kernelspec": {
   "display_name": "hyeokjong2",
   "language": "python",
   "name": "hyeikjong2"
  },
  "language_info": {
   "codemirror_mode": {
    "name": "ipython",
    "version": 3
   },
   "file_extension": ".py",
   "mimetype": "text/x-python",
   "name": "python",
   "nbconvert_exporter": "python",
   "pygments_lexer": "ipython3",
   "version": "3.7.9"
  }
 },
 "nbformat": 4,
 "nbformat_minor": 1
}
