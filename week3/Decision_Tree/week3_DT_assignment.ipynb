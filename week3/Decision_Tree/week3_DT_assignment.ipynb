{
 "cells": [
  {
   "cell_type": "markdown",
   "metadata": {},
   "source": [
    "# DT Assignment"
   ]
  },
  {
   "cell_type": "markdown",
   "metadata": {},
   "source": [
    "# Data Loading"
   ]
  },
  {
   "cell_type": "code",
   "execution_count": 1,
   "metadata": {},
   "outputs": [],
   "source": [
    "import pandas as pd \n",
    "import numpy as np"
   ]
  },
  {
   "cell_type": "code",
   "execution_count": 2,
   "metadata": {},
   "outputs": [
    {
     "data": {
      "text/html": [
       "<div>\n",
       "<style scoped>\n",
       "    .dataframe tbody tr th:only-of-type {\n",
       "        vertical-align: middle;\n",
       "    }\n",
       "\n",
       "    .dataframe tbody tr th {\n",
       "        vertical-align: top;\n",
       "    }\n",
       "\n",
       "    .dataframe thead th {\n",
       "        text-align: right;\n",
       "    }\n",
       "</style>\n",
       "<table border=\"1\" class=\"dataframe\">\n",
       "  <thead>\n",
       "    <tr style=\"text-align: right;\">\n",
       "      <th></th>\n",
       "      <th>age</th>\n",
       "      <th>income</th>\n",
       "      <th>student</th>\n",
       "      <th>credit_rating</th>\n",
       "      <th>class_buys_computer</th>\n",
       "    </tr>\n",
       "  </thead>\n",
       "  <tbody>\n",
       "    <tr>\n",
       "      <th>0</th>\n",
       "      <td>youth</td>\n",
       "      <td>high</td>\n",
       "      <td>no</td>\n",
       "      <td>fair</td>\n",
       "      <td>no</td>\n",
       "    </tr>\n",
       "    <tr>\n",
       "      <th>1</th>\n",
       "      <td>youth</td>\n",
       "      <td>high</td>\n",
       "      <td>no</td>\n",
       "      <td>excellent</td>\n",
       "      <td>no</td>\n",
       "    </tr>\n",
       "    <tr>\n",
       "      <th>2</th>\n",
       "      <td>middle_aged</td>\n",
       "      <td>high</td>\n",
       "      <td>no</td>\n",
       "      <td>fair</td>\n",
       "      <td>yes</td>\n",
       "    </tr>\n",
       "    <tr>\n",
       "      <th>3</th>\n",
       "      <td>senior</td>\n",
       "      <td>medium</td>\n",
       "      <td>no</td>\n",
       "      <td>fair</td>\n",
       "      <td>yes</td>\n",
       "    </tr>\n",
       "    <tr>\n",
       "      <th>4</th>\n",
       "      <td>senior</td>\n",
       "      <td>low</td>\n",
       "      <td>yes</td>\n",
       "      <td>fair</td>\n",
       "      <td>yes</td>\n",
       "    </tr>\n",
       "    <tr>\n",
       "      <th>5</th>\n",
       "      <td>senior</td>\n",
       "      <td>low</td>\n",
       "      <td>yes</td>\n",
       "      <td>excellent</td>\n",
       "      <td>no</td>\n",
       "    </tr>\n",
       "    <tr>\n",
       "      <th>6</th>\n",
       "      <td>middle_aged</td>\n",
       "      <td>low</td>\n",
       "      <td>yes</td>\n",
       "      <td>excellent</td>\n",
       "      <td>yes</td>\n",
       "    </tr>\n",
       "    <tr>\n",
       "      <th>7</th>\n",
       "      <td>youth</td>\n",
       "      <td>medium</td>\n",
       "      <td>no</td>\n",
       "      <td>fair</td>\n",
       "      <td>no</td>\n",
       "    </tr>\n",
       "    <tr>\n",
       "      <th>8</th>\n",
       "      <td>youth</td>\n",
       "      <td>low</td>\n",
       "      <td>yes</td>\n",
       "      <td>fair</td>\n",
       "      <td>yes</td>\n",
       "    </tr>\n",
       "    <tr>\n",
       "      <th>9</th>\n",
       "      <td>senior</td>\n",
       "      <td>medium</td>\n",
       "      <td>yes</td>\n",
       "      <td>fair</td>\n",
       "      <td>yes</td>\n",
       "    </tr>\n",
       "    <tr>\n",
       "      <th>10</th>\n",
       "      <td>youth</td>\n",
       "      <td>medium</td>\n",
       "      <td>yes</td>\n",
       "      <td>excellent</td>\n",
       "      <td>yes</td>\n",
       "    </tr>\n",
       "    <tr>\n",
       "      <th>11</th>\n",
       "      <td>middle_aged</td>\n",
       "      <td>medium</td>\n",
       "      <td>no</td>\n",
       "      <td>excellent</td>\n",
       "      <td>yes</td>\n",
       "    </tr>\n",
       "    <tr>\n",
       "      <th>12</th>\n",
       "      <td>middle_aged</td>\n",
       "      <td>high</td>\n",
       "      <td>yes</td>\n",
       "      <td>fair</td>\n",
       "      <td>yes</td>\n",
       "    </tr>\n",
       "    <tr>\n",
       "      <th>13</th>\n",
       "      <td>senior</td>\n",
       "      <td>medium</td>\n",
       "      <td>no</td>\n",
       "      <td>excellent</td>\n",
       "      <td>no</td>\n",
       "    </tr>\n",
       "  </tbody>\n",
       "</table>\n",
       "</div>"
      ],
      "text/plain": [
       "            age  income student credit_rating class_buys_computer\n",
       "0         youth    high      no          fair                  no\n",
       "1         youth    high      no     excellent                  no\n",
       "2   middle_aged    high      no          fair                 yes\n",
       "3        senior  medium      no          fair                 yes\n",
       "4        senior     low     yes          fair                 yes\n",
       "5        senior     low     yes     excellent                  no\n",
       "6   middle_aged     low     yes     excellent                 yes\n",
       "7         youth  medium      no          fair                  no\n",
       "8         youth     low     yes          fair                 yes\n",
       "9        senior  medium     yes          fair                 yes\n",
       "10        youth  medium     yes     excellent                 yes\n",
       "11  middle_aged  medium      no     excellent                 yes\n",
       "12  middle_aged    high     yes          fair                 yes\n",
       "13       senior  medium      no     excellent                  no"
      ]
     },
     "execution_count": 2,
     "metadata": {},
     "output_type": "execute_result"
    }
   ],
   "source": [
    "pd_data = pd.read_csv('https://raw.githubusercontent.com/AugustLONG/ML01/master/01decisiontree/AllElectronics.csv')\n",
    "pd_data.drop(\"RID\",axis=1, inplace = True) #RID는 그냥 순서라서 삭제\n",
    "pd_data"
   ]
  },
  {
   "cell_type": "markdown",
   "metadata": {},
   "source": [
    "## Gini 계수를 구하는 함수 만들기"
   ]
  },
  {
   "cell_type": "markdown",
   "metadata": {},
   "source": [
    "$Gini(A)=\\displaystyle\\sum_{j=1}^{2}\\cfrac{|D_j|}{|D|}Gini(D_i)\\;\\;,\\;\\;where\\;\\;\\;Gini(D_i)=1-\\displaystyle\\sum_{j=1}^{x}P_j^2$\n",
    "\n",
    "- Input: df(데이터), label(타겟변수명)\n",
    "- 해당 결과는 아래와 같이 나와야 합니다."
   ]
  },
  {
   "cell_type": "code",
   "execution_count": 3,
   "metadata": {},
   "outputs": [],
   "source": [
    "def get_gini(df, label):\n",
    "    length = len(df[label])             # data의 개수 입니다.\n",
    "    x = len(df[label].unique())         # 위의 수식에서 오른쪽의 x값은 구하고자 하는 set D의 label의 개수입니다.\n",
    "    y = 0                               # 누적 합 할 변수를 지정해 줍니다.\n",
    "    for i in range(x):                  # 총 unique label의 수만큼 iterate합니다.\n",
    "        cnt = df[label].value_counts()  # 해당 set의 unique value별 count를 계산합니다.\n",
    "        p = cnt[i]/length               # P를 직접 계산합니다. = (counts of unique values)/(전체 데이터 수)\n",
    "        y += p*p                        # y에 제곱한 값은 누적합 합니다.\n",
    "    gini = 1 - y                        # 최종적으로 gini index를 계산 합니다. \n",
    "    return gini"
   ]
  },
  {
   "cell_type": "code",
   "execution_count": 4,
   "metadata": {},
   "outputs": [
    {
     "data": {
      "text/plain": [
       "0.653061224489796"
      ]
     },
     "execution_count": 4,
     "metadata": {},
     "output_type": "execute_result"
    }
   ],
   "source": [
    "get_gini(pd_data,'income')"
   ]
  },
  {
   "cell_type": "markdown",
   "metadata": {},
   "source": [
    "## Feature의 Class를 이진 분류로 만들기\n",
    "- ex) {A,B,C} -> ({A}, {B,C}), ({B}, {A,C}), ({C}, {A,B})"
   ]
  },
  {
   "cell_type": "markdown",
   "metadata": {},
   "source": [
    "- Input: df(데이터), attribute(Gini index를 구하고자 하는 변수명)\n",
    "- Income 변수를 결과로 출력해주세요."
   ]
  },
  {
   "cell_type": "code",
   "execution_count": 5,
   "metadata": {},
   "outputs": [],
   "source": [
    "# 처음에 올려주신 결과를 보지 못해서 계산 값은 다 같으나 중간 과정이 살짝 다릅니다.ㅠㅠ\n",
    "\n",
    "\n",
    "from itertools import combinations\n",
    "\n",
    "def get_binary_split(df, attribute):\n",
    "    \n",
    "    uniques = list(df[attribute].unique()) # 속성 데이터 고유값들을 담은 리스트 ( unique values )\n",
    "    result=[]\n",
    "    mid = []\n",
    "    for i in range( len(uniques)//2 ):     # combination을 이용할 것입니다. 따라서 모든 개수만큼 iterate할 필요가 없습니다.\n",
    "                                           # 예를들어 unique valu가 6개라면 (5,1) (4,2) (3,3)이렇게 됩니다. \n",
    "                                           # 이때 실제 combination계산은 5,4,3만 합니다.\n",
    "                                           # 그러면 나머지 pair는 전체에서 빼주면 되니 자동적으로 완성 됩니다.\n",
    "                                           # 따라서 (unique value 개수) // 2 만큼만 iterate합니다.\n",
    "                                           \n",
    "        half = combinations(uniques, len(uniques) - i - 1)   # unique value가 6개 라면 5, 4, 3 만을 계산 합니다.\n",
    "        mid += (list(half))                                  # 계산된 combination을 list의 형태로 중간 저장합니다.\n",
    "        \n",
    "        for j in mid:                                        # unique value가 6개 라면 (5, 4, 3)으로 3번의 iteration을 진행합니다.\n",
    "            rest = uniques.copy()                            # combination으로 계산 되지 않은 pair가 계산 됩니다.\n",
    "            rest = [x for x in rest if x not in list(j)]     # 즉, unique에서 combination으로 계산 된 것을 빼줍니다.\n",
    "            result.append([list(j), rest])                   # save\n",
    "    \n",
    "    if len(uniques) == 2:                  # unique value 개수가 2개일때는 추가적인 작업이 필요 합니다.\n",
    "        result = [result[0]]               # 같은 list가 두번 반복되므로 하나만을 선택 합니다.\n",
    "                                           # 또한 선택만 하게 되면 dim이 달라져 하나 추가해 줍니다.\n",
    "    \n",
    "    return result           # 최종 결과는 전체 list안에 하나의 pair list가 있는 형태로 반환 됩니다."
   ]
  },
  {
   "cell_type": "code",
   "execution_count": 6,
   "metadata": {},
   "outputs": [
    {
     "data": {
      "text/plain": [
       "[[['youth', 'middle_aged'], ['senior']],\n",
       " [['youth', 'senior'], ['middle_aged']],\n",
       " [['middle_aged', 'senior'], ['youth']]]"
      ]
     },
     "execution_count": 6,
     "metadata": {},
     "output_type": "execute_result"
    }
   ],
   "source": [
    "get_binary_split(pd_data,'age')"
   ]
  },
  {
   "cell_type": "code",
   "execution_count": 7,
   "metadata": {},
   "outputs": [
    {
     "data": {
      "text/plain": [
       "[[['A'], ['B']]]"
      ]
     },
     "execution_count": 7,
     "metadata": {},
     "output_type": "execute_result"
    }
   ],
   "source": [
    "df_test =  pd.DataFrame({\"income\" : ['A', 'B']}) \n",
    "get_binary_split(df_test,'income')"
   ]
  },
  {
   "cell_type": "code",
   "execution_count": 8,
   "metadata": {},
   "outputs": [
    {
     "data": {
      "text/plain": [
       "[[['A', 'B'], ['C']], [['A', 'C'], ['B']], [['B', 'C'], ['A']]]"
      ]
     },
     "execution_count": 8,
     "metadata": {},
     "output_type": "execute_result"
    }
   ],
   "source": [
    "df_test =  pd.DataFrame({\"income\" : ['A', 'B', 'C']}) \n",
    "get_binary_split(df_test,'income')"
   ]
  },
  {
   "cell_type": "code",
   "execution_count": 9,
   "metadata": {},
   "outputs": [
    {
     "data": {
      "text/plain": [
       "[[['A', 'B', 'C'], ['D']],\n",
       " [['A', 'B', 'D'], ['C']],\n",
       " [['A', 'C', 'D'], ['B']],\n",
       " [['B', 'C', 'D'], ['A']],\n",
       " [['A', 'B', 'C'], ['D']],\n",
       " [['A', 'B', 'D'], ['C']],\n",
       " [['A', 'C', 'D'], ['B']],\n",
       " [['B', 'C', 'D'], ['A']],\n",
       " [['A', 'B'], ['C', 'D']],\n",
       " [['A', 'C'], ['B', 'D']],\n",
       " [['A', 'D'], ['B', 'C']],\n",
       " [['B', 'C'], ['A', 'D']],\n",
       " [['B', 'D'], ['A', 'C']],\n",
       " [['C', 'D'], ['A', 'B']]]"
      ]
     },
     "execution_count": 9,
     "metadata": {},
     "output_type": "execute_result"
    }
   ],
   "source": [
    "df_test =  pd.DataFrame({\"income\" : ['A', 'B', 'C', 'D']}) \n",
    "get_binary_split(df_test,'income')"
   ]
  },
  {
   "cell_type": "code",
   "execution_count": 10,
   "metadata": {},
   "outputs": [
    {
     "data": {
      "text/plain": [
       "[[['A', 'B', 'C', 'D'], ['E']],\n",
       " [['A', 'B', 'C', 'E'], ['D']],\n",
       " [['A', 'B', 'D', 'E'], ['C']],\n",
       " [['A', 'C', 'D', 'E'], ['B']],\n",
       " [['B', 'C', 'D', 'E'], ['A']],\n",
       " [['A', 'B', 'C', 'D'], ['E']],\n",
       " [['A', 'B', 'C', 'E'], ['D']],\n",
       " [['A', 'B', 'D', 'E'], ['C']],\n",
       " [['A', 'C', 'D', 'E'], ['B']],\n",
       " [['B', 'C', 'D', 'E'], ['A']],\n",
       " [['A', 'B', 'C'], ['D', 'E']],\n",
       " [['A', 'B', 'D'], ['C', 'E']],\n",
       " [['A', 'B', 'E'], ['C', 'D']],\n",
       " [['A', 'C', 'D'], ['B', 'E']],\n",
       " [['A', 'C', 'E'], ['B', 'D']],\n",
       " [['A', 'D', 'E'], ['B', 'C']],\n",
       " [['B', 'C', 'D'], ['A', 'E']],\n",
       " [['B', 'C', 'E'], ['A', 'D']],\n",
       " [['B', 'D', 'E'], ['A', 'C']],\n",
       " [['C', 'D', 'E'], ['A', 'B']]]"
      ]
     },
     "execution_count": 10,
     "metadata": {},
     "output_type": "execute_result"
    }
   ],
   "source": [
    "df_test =  pd.DataFrame({\"income\" : ['A', 'B', 'C', 'D', 'E']}) \n",
    "get_binary_split(df_test,'income')"
   ]
  },
  {
   "cell_type": "code",
   "execution_count": 11,
   "metadata": {},
   "outputs": [
    {
     "data": {
      "text/plain": [
       "[[['A', 'B', 'C', 'D', 'E'], ['F']],\n",
       " [['A', 'B', 'C', 'D', 'F'], ['E']],\n",
       " [['A', 'B', 'C', 'E', 'F'], ['D']],\n",
       " [['A', 'B', 'D', 'E', 'F'], ['C']],\n",
       " [['A', 'C', 'D', 'E', 'F'], ['B']],\n",
       " [['B', 'C', 'D', 'E', 'F'], ['A']],\n",
       " [['A', 'B', 'C', 'D', 'E'], ['F']],\n",
       " [['A', 'B', 'C', 'D', 'F'], ['E']],\n",
       " [['A', 'B', 'C', 'E', 'F'], ['D']],\n",
       " [['A', 'B', 'D', 'E', 'F'], ['C']],\n",
       " [['A', 'C', 'D', 'E', 'F'], ['B']],\n",
       " [['B', 'C', 'D', 'E', 'F'], ['A']],\n",
       " [['A', 'B', 'C', 'D'], ['E', 'F']],\n",
       " [['A', 'B', 'C', 'E'], ['D', 'F']],\n",
       " [['A', 'B', 'C', 'F'], ['D', 'E']],\n",
       " [['A', 'B', 'D', 'E'], ['C', 'F']],\n",
       " [['A', 'B', 'D', 'F'], ['C', 'E']],\n",
       " [['A', 'B', 'E', 'F'], ['C', 'D']],\n",
       " [['A', 'C', 'D', 'E'], ['B', 'F']],\n",
       " [['A', 'C', 'D', 'F'], ['B', 'E']],\n",
       " [['A', 'C', 'E', 'F'], ['B', 'D']],\n",
       " [['A', 'D', 'E', 'F'], ['B', 'C']],\n",
       " [['B', 'C', 'D', 'E'], ['A', 'F']],\n",
       " [['B', 'C', 'D', 'F'], ['A', 'E']],\n",
       " [['B', 'C', 'E', 'F'], ['A', 'D']],\n",
       " [['B', 'D', 'E', 'F'], ['A', 'C']],\n",
       " [['C', 'D', 'E', 'F'], ['A', 'B']],\n",
       " [['A', 'B', 'C', 'D', 'E'], ['F']],\n",
       " [['A', 'B', 'C', 'D', 'F'], ['E']],\n",
       " [['A', 'B', 'C', 'E', 'F'], ['D']],\n",
       " [['A', 'B', 'D', 'E', 'F'], ['C']],\n",
       " [['A', 'C', 'D', 'E', 'F'], ['B']],\n",
       " [['B', 'C', 'D', 'E', 'F'], ['A']],\n",
       " [['A', 'B', 'C', 'D'], ['E', 'F']],\n",
       " [['A', 'B', 'C', 'E'], ['D', 'F']],\n",
       " [['A', 'B', 'C', 'F'], ['D', 'E']],\n",
       " [['A', 'B', 'D', 'E'], ['C', 'F']],\n",
       " [['A', 'B', 'D', 'F'], ['C', 'E']],\n",
       " [['A', 'B', 'E', 'F'], ['C', 'D']],\n",
       " [['A', 'C', 'D', 'E'], ['B', 'F']],\n",
       " [['A', 'C', 'D', 'F'], ['B', 'E']],\n",
       " [['A', 'C', 'E', 'F'], ['B', 'D']],\n",
       " [['A', 'D', 'E', 'F'], ['B', 'C']],\n",
       " [['B', 'C', 'D', 'E'], ['A', 'F']],\n",
       " [['B', 'C', 'D', 'F'], ['A', 'E']],\n",
       " [['B', 'C', 'E', 'F'], ['A', 'D']],\n",
       " [['B', 'D', 'E', 'F'], ['A', 'C']],\n",
       " [['C', 'D', 'E', 'F'], ['A', 'B']],\n",
       " [['A', 'B', 'C'], ['D', 'E', 'F']],\n",
       " [['A', 'B', 'D'], ['C', 'E', 'F']],\n",
       " [['A', 'B', 'E'], ['C', 'D', 'F']],\n",
       " [['A', 'B', 'F'], ['C', 'D', 'E']],\n",
       " [['A', 'C', 'D'], ['B', 'E', 'F']],\n",
       " [['A', 'C', 'E'], ['B', 'D', 'F']],\n",
       " [['A', 'C', 'F'], ['B', 'D', 'E']],\n",
       " [['A', 'D', 'E'], ['B', 'C', 'F']],\n",
       " [['A', 'D', 'F'], ['B', 'C', 'E']],\n",
       " [['A', 'E', 'F'], ['B', 'C', 'D']],\n",
       " [['B', 'C', 'D'], ['A', 'E', 'F']],\n",
       " [['B', 'C', 'E'], ['A', 'D', 'F']],\n",
       " [['B', 'C', 'F'], ['A', 'D', 'E']],\n",
       " [['B', 'D', 'E'], ['A', 'C', 'F']],\n",
       " [['B', 'D', 'F'], ['A', 'C', 'E']],\n",
       " [['B', 'E', 'F'], ['A', 'C', 'D']],\n",
       " [['C', 'D', 'E'], ['A', 'B', 'F']],\n",
       " [['C', 'D', 'F'], ['A', 'B', 'E']],\n",
       " [['C', 'E', 'F'], ['A', 'B', 'D']],\n",
       " [['D', 'E', 'F'], ['A', 'B', 'C']]]"
      ]
     },
     "execution_count": 11,
     "metadata": {},
     "output_type": "execute_result"
    }
   ],
   "source": [
    "df_test =  pd.DataFrame({\"income\" : ['A', 'B', 'C', 'D', 'E', 'F']}) \n",
    "get_binary_split(df_test,'income')"
   ]
  },
  {
   "cell_type": "markdown",
   "metadata": {},
   "source": [
    "## 모든 이진분류의 경우의 Gini index를 구하는 함수 만들기\n",
    "- 위에서 완성한 두 함수를 사용하여 만들어주세요!\n",
    "- 해당 결과는 아래와 같이 나와야 합니다.  \n",
    "$Gini(A)=\\displaystyle\\sum_{j=1}^{2}\\cfrac{|D_j|}{|D|}Gini(D_i)\\;\\;,\\;\\;where\\;\\;\\;Gini(D_i)=1-\\displaystyle\\sum_{j=1}^{x}P_j^2$"
   ]
  },
  {
   "cell_type": "code",
   "execution_count": 12,
   "metadata": {},
   "outputs": [],
   "source": [
    "def get_attribute_gini_index(df, attribute, label):\n",
    "    binary_split = get_binary_split(df, attribute)\n",
    "    result = {}\n",
    "    length = len(df)    # 전체의 길이 입니다 위의 식에서 |D|를 의미합니다.\n",
    "\n",
    "    for i in binary_split:   # 전체 binary_split을 iterate합니다.\n",
    "                                                            # 아예 새로운 dataframe을 만들어 줍니다.\n",
    "        g1_df = pd.DataFrame(columns = df.columns.tolist()) # 위의 식에서 왼쪽식의 j가 1일때 입니다. 빈 dataframe에 추가합니다.\n",
    "        g2_df = df.copy()                                   # 위의 식에서 왼쪽식의 j가 2일때 입니다. 원래 dataframe에서 제거 합니다.\n",
    "                                                            \n",
    "        for j in i[0]:                                      # binary_split 함수에서도 사용한 개념인데 pair이기 때문에 하나만 계산하면 충분합니다.\n",
    "                                                            # 예를들어 'age'이면 i[0]는 ['youth', 'middle_aged']가 되고\n",
    "                                                            # j는 각 원소를 iterate합니다.\n",
    "            g1_df = g1_df.append( df[df[attribute] == j] )  # 각 원소가 있으면 추가 합니다.\n",
    "            g2_df.drop(g2_df[g2_df[attribute] == j].index, inplace=True) # 같은 방식으로 각 원소가 있으면 삭제 합니다.\n",
    "        g1 = get_gini(g1_df, label)    # 이는 위에서 오른쪽의 계산 과정입니다.\n",
    "        g2 = get_gini(g2_df, label)    # 처리된 dataframe을 가지고 gini를 계산합니다.\n",
    "        d1 = len(g1_df)                # 위의 식에서 |D_1|입니다.\n",
    "        d2 = len(g2_df)                # 위의 식에서 |D_2|입니다.\n",
    "        value = (d1 / length) * g1 + (d2 / length) * g2 \n",
    "        \n",
    "        result[str(i)] = value         # save\n",
    "    \n",
    "    return result"
   ]
  },
  {
   "cell_type": "code",
   "execution_count": 13,
   "metadata": {},
   "outputs": [
    {
     "data": {
      "text/plain": [
       "{\"[['youth', 'middle_aged'], ['senior']]\": 0.45714285714285713,\n",
       " \"[['youth', 'senior'], ['middle_aged']]\": 0.35714285714285715,\n",
       " \"[['middle_aged', 'senior'], ['youth']]\": 0.3936507936507937}"
      ]
     },
     "execution_count": 13,
     "metadata": {},
     "output_type": "execute_result"
    }
   ],
   "source": [
    "get_attribute_gini_index(pd_data, 'age', 'class_buys_computer')"
   ]
  },
  {
   "cell_type": "code",
   "execution_count": 14,
   "metadata": {},
   "outputs": [
    {
     "data": {
      "text/plain": [
       "{\"[['high', 'medium'], ['low']]\": 0.45,\n",
       " \"[['high', 'low'], ['medium']]\": 0.4583333333333333,\n",
       " \"[['medium', 'low'], ['high']]\": 0.4428571428571429}"
      ]
     },
     "execution_count": 14,
     "metadata": {},
     "output_type": "execute_result"
    }
   ],
   "source": [
    "get_attribute_gini_index(pd_data, 'income', 'class_buys_computer')"
   ]
  },
  {
   "cell_type": "code",
   "execution_count": 15,
   "metadata": {},
   "outputs": [
    {
     "data": {
      "text/plain": [
       "{\"[['no'], ['yes']]\": 0.3673469387755103}"
      ]
     },
     "execution_count": 15,
     "metadata": {},
     "output_type": "execute_result"
    }
   ],
   "source": [
    "get_attribute_gini_index(pd_data, 'student', 'class_buys_computer')"
   ]
  },
  {
   "cell_type": "code",
   "execution_count": 16,
   "metadata": {},
   "outputs": [
    {
     "data": {
      "text/plain": [
       "{\"[['fair'], ['excellent']]\": 0.42857142857142855}"
      ]
     },
     "execution_count": 16,
     "metadata": {},
     "output_type": "execute_result"
    }
   ],
   "source": [
    "get_attribute_gini_index(pd_data, 'credit_rating', 'class_buys_computer')"
   ]
  },
  {
   "cell_type": "markdown",
   "metadata": {},
   "source": [
    "- 여기서 가장 작은 Gini index값을 가지는 class를 확인합니다."
   ]
  },
  {
   "cell_type": "markdown",
   "metadata": {},
   "source": [
    "## 분류를 하는 데 가장 중요한 변수를 선정하고, 해당 변수의 Gini index를 제시해주세요.\n",
    "- 모든 변수에 대한 Gini index(최소)를 출력해주세요.\n",
    "- 해당 결과는 아래와 같이 나와야 합니다."
   ]
  },
  {
   "cell_type": "code",
   "execution_count": 17,
   "metadata": {},
   "outputs": [
    {
     "name": "stdout",
     "output_type": "stream",
     "text": [
      "Minimum Gini index of age : 0.3571\n",
      "Minimum Gini index of income : 0.4429\n",
      "Minimum Gini index of student : 0.3673\n",
      "Minimum Gini index of credit_rating : 0.4286\n"
     ]
    }
   ],
   "source": [
    "# 변수명 중 마지막에 위치한 label 컬럼 얻기\n",
    "label = pd_data.columns[-1]\n",
    "# label 변수를 제외한 변수명 얻기\n",
    "features = list(pd_data.columns[:-1])\n",
    "\n",
    "# 각 변수를 대상으로 반복문 수행(해당 변수 중 가장 낮은 gini 계수와 변수 출력)\n",
    "for feature in features:\n",
    "    print(\"Minimum Gini index of\", feature, \":\", round(min(get_attribute_gini_index(pd_data, feature, label).values()), 4))"
   ]
  },
  {
   "cell_type": "markdown",
   "metadata": {},
   "source": [
    "gini index가 가장 작게 나온 'age'를 가장 중요한 변수로 선정합니다.\n",
    "\n",
    "이어서 해당 변수의 이진 분류된 각 class에 대해 Gini index도 계산합니다."
   ]
  },
  {
   "cell_type": "code",
   "execution_count": 18,
   "metadata": {},
   "outputs": [
    {
     "data": {
      "text/plain": [
       "{\"[['youth', 'middle_aged'], ['senior']]\": 0.45714285714285713,\n",
       " \"[['youth', 'senior'], ['middle_aged']]\": 0.35714285714285715,\n",
       " \"[['middle_aged', 'senior'], ['youth']]\": 0.3936507936507937}"
      ]
     },
     "execution_count": 18,
     "metadata": {},
     "output_type": "execute_result"
    }
   ],
   "source": [
    "get_attribute_gini_index(pd_data, 'age', 'class_buys_computer')"
   ]
  },
  {
   "cell_type": "markdown",
   "metadata": {},
   "source": [
    "'age' 변수에서 gini index가 가장 작게 나온 'middle_aged' class를 선정합니다."
   ]
  },
  {
   "cell_type": "markdown",
   "metadata": {},
   "source": [
    "## 위에서 선정한 feature로 DataFrame을 split한 후 나눠진 2개의 DataFrame에서 각각 다음으로 중요한 변수를 선정하고 해당 변수의 Gini index를 제시해주세요."
   ]
  },
  {
   "cell_type": "code",
   "execution_count": 19,
   "metadata": {},
   "outputs": [],
   "source": [
    "#선정한 feature로 데이터프레임 split을 해주세요.\n",
    "\n",
    "df_1 = pd_data[pd_data['age'] == 'middle_aged']\n",
    "df_2 = pd_data[pd_data['age'] != 'middle_aged']"
   ]
  },
  {
   "cell_type": "code",
   "execution_count": 20,
   "metadata": {},
   "outputs": [
    {
     "data": {
      "text/html": [
       "<div>\n",
       "<style scoped>\n",
       "    .dataframe tbody tr th:only-of-type {\n",
       "        vertical-align: middle;\n",
       "    }\n",
       "\n",
       "    .dataframe tbody tr th {\n",
       "        vertical-align: top;\n",
       "    }\n",
       "\n",
       "    .dataframe thead th {\n",
       "        text-align: right;\n",
       "    }\n",
       "</style>\n",
       "<table border=\"1\" class=\"dataframe\">\n",
       "  <thead>\n",
       "    <tr style=\"text-align: right;\">\n",
       "      <th></th>\n",
       "      <th>age</th>\n",
       "      <th>income</th>\n",
       "      <th>student</th>\n",
       "      <th>credit_rating</th>\n",
       "      <th>class_buys_computer</th>\n",
       "    </tr>\n",
       "  </thead>\n",
       "  <tbody>\n",
       "    <tr>\n",
       "      <th>2</th>\n",
       "      <td>middle_aged</td>\n",
       "      <td>high</td>\n",
       "      <td>no</td>\n",
       "      <td>fair</td>\n",
       "      <td>yes</td>\n",
       "    </tr>\n",
       "    <tr>\n",
       "      <th>6</th>\n",
       "      <td>middle_aged</td>\n",
       "      <td>low</td>\n",
       "      <td>yes</td>\n",
       "      <td>excellent</td>\n",
       "      <td>yes</td>\n",
       "    </tr>\n",
       "    <tr>\n",
       "      <th>11</th>\n",
       "      <td>middle_aged</td>\n",
       "      <td>medium</td>\n",
       "      <td>no</td>\n",
       "      <td>excellent</td>\n",
       "      <td>yes</td>\n",
       "    </tr>\n",
       "    <tr>\n",
       "      <th>12</th>\n",
       "      <td>middle_aged</td>\n",
       "      <td>high</td>\n",
       "      <td>yes</td>\n",
       "      <td>fair</td>\n",
       "      <td>yes</td>\n",
       "    </tr>\n",
       "  </tbody>\n",
       "</table>\n",
       "</div>"
      ],
      "text/plain": [
       "            age  income student credit_rating class_buys_computer\n",
       "2   middle_aged    high      no          fair                 yes\n",
       "6   middle_aged     low     yes     excellent                 yes\n",
       "11  middle_aged  medium      no     excellent                 yes\n",
       "12  middle_aged    high     yes          fair                 yes"
      ]
     },
     "execution_count": 20,
     "metadata": {},
     "output_type": "execute_result"
    }
   ],
   "source": [
    "df_1.head() #split 결과 확인 "
   ]
  },
  {
   "cell_type": "code",
   "execution_count": 21,
   "metadata": {},
   "outputs": [
    {
     "data": {
      "text/html": [
       "<div>\n",
       "<style scoped>\n",
       "    .dataframe tbody tr th:only-of-type {\n",
       "        vertical-align: middle;\n",
       "    }\n",
       "\n",
       "    .dataframe tbody tr th {\n",
       "        vertical-align: top;\n",
       "    }\n",
       "\n",
       "    .dataframe thead th {\n",
       "        text-align: right;\n",
       "    }\n",
       "</style>\n",
       "<table border=\"1\" class=\"dataframe\">\n",
       "  <thead>\n",
       "    <tr style=\"text-align: right;\">\n",
       "      <th></th>\n",
       "      <th>age</th>\n",
       "      <th>income</th>\n",
       "      <th>student</th>\n",
       "      <th>credit_rating</th>\n",
       "      <th>class_buys_computer</th>\n",
       "    </tr>\n",
       "  </thead>\n",
       "  <tbody>\n",
       "    <tr>\n",
       "      <th>0</th>\n",
       "      <td>youth</td>\n",
       "      <td>high</td>\n",
       "      <td>no</td>\n",
       "      <td>fair</td>\n",
       "      <td>no</td>\n",
       "    </tr>\n",
       "    <tr>\n",
       "      <th>1</th>\n",
       "      <td>youth</td>\n",
       "      <td>high</td>\n",
       "      <td>no</td>\n",
       "      <td>excellent</td>\n",
       "      <td>no</td>\n",
       "    </tr>\n",
       "    <tr>\n",
       "      <th>3</th>\n",
       "      <td>senior</td>\n",
       "      <td>medium</td>\n",
       "      <td>no</td>\n",
       "      <td>fair</td>\n",
       "      <td>yes</td>\n",
       "    </tr>\n",
       "    <tr>\n",
       "      <th>4</th>\n",
       "      <td>senior</td>\n",
       "      <td>low</td>\n",
       "      <td>yes</td>\n",
       "      <td>fair</td>\n",
       "      <td>yes</td>\n",
       "    </tr>\n",
       "    <tr>\n",
       "      <th>5</th>\n",
       "      <td>senior</td>\n",
       "      <td>low</td>\n",
       "      <td>yes</td>\n",
       "      <td>excellent</td>\n",
       "      <td>no</td>\n",
       "    </tr>\n",
       "  </tbody>\n",
       "</table>\n",
       "</div>"
      ],
      "text/plain": [
       "      age  income student credit_rating class_buys_computer\n",
       "0   youth    high      no          fair                  no\n",
       "1   youth    high      no     excellent                  no\n",
       "3  senior  medium      no          fair                 yes\n",
       "4  senior     low     yes          fair                 yes\n",
       "5  senior     low     yes     excellent                  no"
      ]
     },
     "execution_count": 21,
     "metadata": {},
     "output_type": "execute_result"
    }
   ],
   "source": [
    "df_2.head() #split 결과 확인"
   ]
  },
  {
   "cell_type": "code",
   "execution_count": 22,
   "metadata": {},
   "outputs": [
    {
     "name": "stdout",
     "output_type": "stream",
     "text": [
      "Age : Middle_aged, Minimum Gini index of income : 0.0\n",
      "Age : Middle_aged, Minimum Gini index of student : 0.0\n",
      "Age : Middle_aged, Minimum Gini index of credit_rating : 0.0\n",
      "#############################################################\n",
      "Age : Middle_aged, Minimum Gini index of income : 0.375\n",
      "Age : Middle_aged, Minimum Gini index of student : 0.32\n",
      "Age : Middle_aged, Minimum Gini index of credit_rating : 0.4167\n"
     ]
    }
   ],
   "source": [
    "# 각 변수를 대상으로 반복문 수행\n",
    "# 결과는 소수점 이하 4자리까지 출력\n",
    "\n",
    "rest_features = [\"income\", \"student\", \"credit_rating\"]     # 'age'를 제외한 변수들 입니다.\n",
    "\n",
    "for feature in rest_features:\n",
    "    print(\"Age : Middle_aged,\", \"Minimum Gini index of\", feature, \":\", round(min(get_attribute_gini_index(df_1, feature, label).values()), 4))\n",
    "\n",
    "print(\"#############################################################\")\n",
    "\n",
    "for feature in rest_features:\n",
    "    print(\"Age : Middle_aged,\", \"Minimum Gini index of\", feature, \":\", round(min(get_attribute_gini_index(df_2, feature, label).values()), 4))"
   ]
  },
  {
   "attachments": {},
   "cell_type": "markdown",
   "metadata": {},
   "source": [
    "## Entropy 를 구하는 함수 만들기\n",
    "\n",
    "<img src = https://miro.medium.com/max/1122/0*DkWdyGidNSfdT1Nu.png width = \"450\">"
   ]
  },
  {
   "cell_type": "code",
   "execution_count": 23,
   "metadata": {},
   "outputs": [],
   "source": [
    "from math import log2\n",
    "\n",
    "def getEntropy(df, feature) :\n",
    "    cnt = df[feature].value_counts()   # unique별로 count합니다.\n",
    "    legth = len(df)                    # 전체 개수 입니다.\n",
    "    entropy = 0\n",
    "    \n",
    "    for i in cnt:                      # # unique별 count를 iterate합니다.\n",
    "        p = i / legth\n",
    "        entropy -= p*log2(p)\n",
    "    \n",
    "   \n",
    "    \n",
    "    return(entropy)"
   ]
  },
  {
   "cell_type": "code",
   "execution_count": 24,
   "metadata": {},
   "outputs": [
    {
     "data": {
      "text/plain": [
       "0.9402859586706311"
      ]
     },
     "execution_count": 24,
     "metadata": {},
     "output_type": "execute_result"
    }
   ],
   "source": [
    "getEntropy(pd_data, \"class_buys_computer\")"
   ]
  },
  {
   "cell_type": "markdown",
   "metadata": {},
   "source": [
    "$Gain(S,A)=E(S)-I(S,A)$  \n",
    "$where, \\;\\; I(S,A)=\\displaystyle\\sum_{i} \\cfrac{|S_i|}{|S|}E(S_i)$ 이고 $i$는 $A$ class의 unique 개수 입니다.  "
   ]
  },
  {
   "cell_type": "code",
   "execution_count": 25,
   "metadata": {},
   "outputs": [],
   "source": [
    "# 가장 중요한 변수로 선정된 목표변수를 제외한 다른 변수들에 대해\n",
    "# 각 칼럼별로 엔트로피를 구해주는 함수를 작성해주세요.\n",
    "\n",
    "def getGainA(df, feature) :\n",
    "        \n",
    "    result = {}\n",
    "    info_D = getEntropy(df, feature)    # 목표변수에 대한 Entropy 구하기   **위의 식에서 보면 E(S)입니다.\n",
    "    columns = list(df.loc[:, df.columns != feature])     # 목표변수(feature)를 제외한 나머지 변수들의 변수명을 리스트 형태로 저장\n",
    "    \n",
    "    \n",
    "    for i in columns:     # column별로 iterate합니다.\n",
    "        I = 0             # 위의 식에서 I(S,A)입니다.\n",
    "        i_list = list(df[i].unique())   # 위의 식에서 i입니다.\n",
    "        for j in i_list:\n",
    "            len_S = len(df[feature])     # 위의 식에서 |S|입니다.\n",
    "            len_Si = sum(df[i] == j)     # 위의 식에서 |S_i|입니다.\n",
    "            I += (len_Si / len_S)*getEntropy(df[df[i] == j], feature)   # |S_i|/|S| * E(S_i)입니다.\n",
    "        result[i] = info_D - I   # 위의 식에서 E(S) - I(S,A) 입니다.\n",
    "        \n",
    "    return result"
   ]
  },
  {
   "cell_type": "code",
   "execution_count": 26,
   "metadata": {
    "scrolled": true
   },
   "outputs": [
    {
     "data": {
      "text/plain": [
       "{'age': 0.24674981977443933,\n",
       " 'income': 0.02922256565895487,\n",
       " 'student': 0.15183550136234159,\n",
       " 'credit_rating': 0.04812703040826949}"
      ]
     },
     "execution_count": 26,
     "metadata": {},
     "output_type": "execute_result"
    }
   ],
   "source": [
    "getGainA(pd_data, \"class_buys_computer\")"
   ]
  }
 ],
 "metadata": {
  "kernelspec": {
   "display_name": "Python 3",
   "language": "python",
   "name": "python3"
  },
  "language_info": {
   "codemirror_mode": {
    "name": "ipython",
    "version": 3
   },
   "file_extension": ".py",
   "mimetype": "text/x-python",
   "name": "python",
   "nbconvert_exporter": "python",
   "pygments_lexer": "ipython3",
   "version": "3.7.11"
  }
 },
 "nbformat": 4,
 "nbformat_minor": 4
}
